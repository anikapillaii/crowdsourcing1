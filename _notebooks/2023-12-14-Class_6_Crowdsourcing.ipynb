{
 "cells": [
  {
   "cell_type": "markdown",
   "metadata": {},
   "source": [
    "---\n",
    "toc: true\n",
    "comments: true\n",
    "layout: post\n",
    "title: 5.4 Crowd-sourcing\n",
    "description: Crowd-sourcing lesson\n",
    "type: hacks\n",
    "courses: { compsci: {week: 16} }\n",
    "---"
   ]
  },
  {
   "cell_type": "markdown",
   "metadata": {},
   "source": [
    "# Big Idea 5.4: Crowd-sourcing\n",
    "\n",
    "### What is Crowd-sourcing?\n",
    "\n",
    "Crowd-sourcing is a way of getting help, ideas, or contributions from a large group of people, often through the internet. Instead of relying on a few experts or individuals, crowd-sourcing taps into the collective knowledge, skills, and efforts of a diverse crowd to solve problems, gather information, or create content. This is one way of preventing Computer Bias. \n",
    "\n",
    "### Types of Crowd-sourcing\n",
    "\n",
    "There are several different types of crowd-sourcing:\n",
    "- Idea Crowdsourcing:Idea crowdsourcing is a collaborative approach to generating creative solutions or innovations by soliciting ideas from a large group of individuals. ex. Companies might host idea competitions where employees or the public submit ideas for new products or process improvements. Online suggestion boxes allow users to contribute ideas and feedback for website improvements or feature enhancements.\n",
    "<br>\n",
    "- Data Crowdsourcing: Data crowdsourcing involves harnessing the power of a crowd to collect, process, or validate large sets of data. ex. Image labeling projects, where contributors tag and describe images to train machine learning models. Crowdsourced mapping platforms like OpenStreetMap, where volunteers contribute to creating and updating maps.\n",
    "<br>\n",
    "- Microtask Crowdsourcing: Microtask crowdsourcing breaks down complex tasks into small, manageable units and distributes them among contributors to achieve rapid results. ex. Amazon Mechanical Turk, where workers perform small tasks like data entry, image recognition, or sentiment analysis for a fee.Captcha solving, where users help decipher distorted text to prove they are human, indirectly contributing to digitizing books.\n",
    "<br>\n",
    "- Knowledge Crowdsourcing: Knowledge crowdsourcing involves tapping into the collective intelligence of a group to answer questions, solve problems, or provide expertise. ex. Online forums like Stack Exchange or Reddit, where users ask questions and receive answers from a community of experts.Collaborative wikis like Wikipedia, where contributors collectively create and edit content on a wide range of topics. \n",
    "<br>\n",
    "- Open Source Development: Open source development refers to the collaborative creation and improvement of software, with the source code being made freely available to the public. ex. GitHub is a platform where developers contribute to open-source projects by submitting code, reporting issues, and collaborating with others. The Linux operating system is a notable example of a successful open-source project with contributions from a global community."
   ]
  }
 ],
 "metadata": {
  "language_info": {
   "name": "python"
  },
  "orig_nbformat": 4
 },
 "nbformat": 4,
 "nbformat_minor": 2
}
